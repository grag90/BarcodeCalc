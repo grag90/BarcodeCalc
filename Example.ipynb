{
 "cells": [
  {
   "cell_type": "code",
   "execution_count": 1,
   "metadata": {},
   "outputs": [],
   "source": [
    "import numpy as np\n",
    "import pandas as pd\n",
    "import time\n",
    "from matplotlib import pyplot as plt"
   ]
  },
  {
   "cell_type": "code",
   "execution_count": 2,
   "metadata": {},
   "outputs": [],
   "source": [
    "from tools import HNSWNearestNeighbors\n",
    "from Barcode import BarcodeSearch"
   ]
  },
  {
   "cell_type": "markdown",
   "metadata": {},
   "source": [
    "## Test Functions\n",
    "\n",
    "We choose some function from common list of <a href=\"https://www.sfu.ca/~ssurjano/optimization.html\">optimization test problems</a> and calculate it's zero sublevel homology with our algorithm:"
   ]
  },
  {
   "cell_type": "code",
   "execution_count": 3,
   "metadata": {},
   "outputs": [],
   "source": [
    "def HumpCamel3(thetas):\n",
    "    return (2 - 1.05 * thetas[:, 0] ** 2 + \n",
    "            thetas[:, 0] ** 4 / 6) * thetas[:, 0] ** 2 + thetas[:, 0] * thetas[:, 1] + thetas[:, 1] ** 2"
   ]
  },
  {
   "cell_type": "markdown",
   "metadata": {},
   "source": [
    "We create random points cloud in $[-2, 2]^2$."
   ]
  },
  {
   "cell_type": "code",
   "execution_count": 4,
   "metadata": {},
   "outputs": [],
   "source": [
    "points = 2 - 4*np.random.rand(100000, 2)\n",
    "values = HumpCamel3(points)"
   ]
  },
  {
   "cell_type": "markdown",
   "metadata": {},
   "source": [
    "Calculate for every points it's closest neighbours with <a href=\"https://github.com/nmslib/hnswlib\">hnswlib</a>:"
   ]
  },
  {
   "cell_type": "code",
   "execution_count": 5,
   "metadata": {},
   "outputs": [],
   "source": [
    "graph, distances = HNSWNearestNeighbors(points, 6)"
   ]
  },
  {
   "cell_type": "markdown",
   "metadata": {},
   "source": [
    "Next we create calcutale zero sublevel homology of function on this cloud"
   ]
  },
  {
   "cell_type": "code",
   "execution_count": 6,
   "metadata": {},
   "outputs": [
    {
     "data": {
      "text/html": [
       "<div>\n",
       "<style scoped>\n",
       "    .dataframe tbody tr th:only-of-type {\n",
       "        vertical-align: middle;\n",
       "    }\n",
       "\n",
       "    .dataframe tbody tr th {\n",
       "        vertical-align: top;\n",
       "    }\n",
       "\n",
       "    .dataframe thead th {\n",
       "        text-align: right;\n",
       "    }\n",
       "</style>\n",
       "<table border=\"1\" class=\"dataframe\">\n",
       "  <thead>\n",
       "    <tr style=\"text-align: right;\">\n",
       "      <th></th>\n",
       "      <th>birth</th>\n",
       "      <th>death</th>\n",
       "      <th>birth_swallowing_cluster</th>\n",
       "      <th>dead_cluster_size</th>\n",
       "    </tr>\n",
       "  </thead>\n",
       "  <tbody>\n",
       "    <tr>\n",
       "      <td>0</td>\n",
       "      <td>2.75444e-05</td>\n",
       "      <td>inf</td>\n",
       "      <td>NaN</td>\n",
       "      <td>99999</td>\n",
       "    </tr>\n",
       "    <tr>\n",
       "      <td>35</td>\n",
       "      <td>0.298813</td>\n",
       "      <td>0.877293</td>\n",
       "      <td>2.75444e-05</td>\n",
       "      <td>5838</td>\n",
       "    </tr>\n",
       "    <tr>\n",
       "      <td>36</td>\n",
       "      <td>0.298843</td>\n",
       "      <td>0.877315</td>\n",
       "      <td>2.75444e-05</td>\n",
       "      <td>5742</td>\n",
       "    </tr>\n",
       "    <tr>\n",
       "      <td>424</td>\n",
       "      <td>1.81708</td>\n",
       "      <td>1.92417</td>\n",
       "      <td>2.75444e-05</td>\n",
       "      <td>18</td>\n",
       "    </tr>\n",
       "    <tr>\n",
       "      <td>531</td>\n",
       "      <td>2.77711</td>\n",
       "      <td>2.8553</td>\n",
       "      <td>2.75444e-05</td>\n",
       "      <td>16</td>\n",
       "    </tr>\n",
       "    <tr>\n",
       "      <td>...</td>\n",
       "      <td>...</td>\n",
       "      <td>...</td>\n",
       "      <td>...</td>\n",
       "      <td>...</td>\n",
       "    </tr>\n",
       "    <tr>\n",
       "      <td>394</td>\n",
       "      <td>1.62357</td>\n",
       "      <td>1.62718</td>\n",
       "      <td>2.75444e-05</td>\n",
       "      <td>1</td>\n",
       "    </tr>\n",
       "    <tr>\n",
       "      <td>393</td>\n",
       "      <td>1.62162</td>\n",
       "      <td>1.6326</td>\n",
       "      <td>2.75444e-05</td>\n",
       "      <td>1</td>\n",
       "    </tr>\n",
       "    <tr>\n",
       "      <td>392</td>\n",
       "      <td>1.61565</td>\n",
       "      <td>1.61879</td>\n",
       "      <td>2.75444e-05</td>\n",
       "      <td>1</td>\n",
       "    </tr>\n",
       "    <tr>\n",
       "      <td>391</td>\n",
       "      <td>1.61481</td>\n",
       "      <td>1.63841</td>\n",
       "      <td>2.75444e-05</td>\n",
       "      <td>1</td>\n",
       "    </tr>\n",
       "    <tr>\n",
       "      <td>362</td>\n",
       "      <td>1.45311</td>\n",
       "      <td>1.45665</td>\n",
       "      <td>2.75444e-05</td>\n",
       "      <td>1</td>\n",
       "    </tr>\n",
       "  </tbody>\n",
       "</table>\n",
       "<p>724 rows × 4 columns</p>\n",
       "</div>"
      ],
      "text/plain": [
       "           birth     death birth_swallowing_cluster dead_cluster_size\n",
       "0    2.75444e-05       inf                      NaN             99999\n",
       "35      0.298813  0.877293              2.75444e-05              5838\n",
       "36      0.298843  0.877315              2.75444e-05              5742\n",
       "424      1.81708   1.92417              2.75444e-05                18\n",
       "531      2.77711    2.8553              2.75444e-05                16\n",
       "..           ...       ...                      ...               ...\n",
       "394      1.62357   1.62718              2.75444e-05                 1\n",
       "393      1.62162    1.6326              2.75444e-05                 1\n",
       "392      1.61565   1.61879              2.75444e-05                 1\n",
       "391      1.61481   1.63841              2.75444e-05                 1\n",
       "362      1.45311   1.45665              2.75444e-05                 1\n",
       "\n",
       "[724 rows x 4 columns]"
      ]
     },
     "execution_count": 6,
     "metadata": {},
     "output_type": "execute_result"
    }
   ],
   "source": [
    "cloud = BarcodeSearch(values, graph, distances)\n",
    "cloud.Initialize()\n",
    "res = cloud.ComputeBarcode()\n",
    "res[['birth', 'death', \n",
    "     'birth_swallowing_cluster',  'dead_cluster_size']].sort_values('dead_cluster_size', ascending=False)"
   ]
  },
  {
   "cell_type": "code",
   "execution_count": null,
   "metadata": {},
   "outputs": [],
   "source": []
  }
 ],
 "metadata": {
  "kernelspec": {
   "display_name": "Python 3",
   "language": "python",
   "name": "python3"
  },
  "language_info": {
   "codemirror_mode": {
    "name": "ipython",
    "version": 3
   },
   "file_extension": ".py",
   "mimetype": "text/x-python",
   "name": "python",
   "nbconvert_exporter": "python",
   "pygments_lexer": "ipython3",
   "version": "3.7.3"
  }
 },
 "nbformat": 4,
 "nbformat_minor": 2
}
